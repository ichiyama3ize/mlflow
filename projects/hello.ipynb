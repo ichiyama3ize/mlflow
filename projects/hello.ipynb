{
 "cells": [
  {
   "cell_type": "code",
   "execution_count": 6,
   "metadata": {},
   "outputs": [],
   "source": [
    "import mlflow"
   ]
  },
  {
   "cell_type": "code",
   "execution_count": 40,
   "metadata": {},
   "outputs": [],
   "source": [
    "import os\n",
    "\n",
    "from sklearn.datasets import fetch_california_housing\n",
    "from sklearn.model_selection import train_test_split\n",
    "from sklearn.ensemble import RandomForestRegressor\n",
    "from sklearn.metrics import mean_squared_error as MSE\n",
    "from sklearn.metrics import r2_score\n",
    "import mlflow.sklearn\n",
    "from mlflow.data.pandas_dataset import PandasDataset\n",
    "\n",
    "import numpy as np\n",
    "import pandas as pd\n",
    "import matplotlib.pyplot as plt\n"
   ]
  },
  {
   "cell_type": "code",
   "execution_count": 8,
   "metadata": {},
   "outputs": [
    {
     "name": "stdout",
     "output_type": "stream",
     "text": [
      "tracking:  http://192.168.8.8:5001/\n",
      "registry:  http://192.168.8.8:5001/\n"
     ]
    }
   ],
   "source": [
    "# mlflow settings\n",
    "\n",
    "host_ip=\"192.168.8.8\"\n",
    "port = os.environ[\"MLFLOW_PORT\"]\n",
    "\n",
    "TRACKING_URI = f\"http://{host_ip}:{port}/\"\n",
    "#ARTIFACT_LOCATION=\n",
    "\n",
    "os.environ[\"LOGNAME\"] = \"ichiyama\"\n",
    "\n",
    "mlflow.set_tracking_uri(TRACKING_URI)\n",
    "\n",
    "print(\"tracking: \", mlflow.get_tracking_uri())\n",
    "print(\"registry: \", mlflow.get_registry_uri())\n",
    "\n",
    "#実験idごとに決まる\n",
    "#print(\"artifact: \", mlflow.get_artifact_uri())"
   ]
  },
  {
   "cell_type": "code",
   "execution_count": 9,
   "metadata": {},
   "outputs": [],
   "source": [
    "# dataset\n",
    "dataset = fetch_california_housing(as_frame=True)\n",
    "df = dataset['frame']"
   ]
  },
  {
   "cell_type": "code",
   "execution_count": 10,
   "metadata": {},
   "outputs": [
    {
     "data": {
      "text/html": [
       "<style>#sk-container-id-1 {color: black;background-color: white;}#sk-container-id-1 pre{padding: 0;}#sk-container-id-1 div.sk-toggleable {background-color: white;}#sk-container-id-1 label.sk-toggleable__label {cursor: pointer;display: block;width: 100%;margin-bottom: 0;padding: 0.3em;box-sizing: border-box;text-align: center;}#sk-container-id-1 label.sk-toggleable__label-arrow:before {content: \"▸\";float: left;margin-right: 0.25em;color: #696969;}#sk-container-id-1 label.sk-toggleable__label-arrow:hover:before {color: black;}#sk-container-id-1 div.sk-estimator:hover label.sk-toggleable__label-arrow:before {color: black;}#sk-container-id-1 div.sk-toggleable__content {max-height: 0;max-width: 0;overflow: hidden;text-align: left;background-color: #f0f8ff;}#sk-container-id-1 div.sk-toggleable__content pre {margin: 0.2em;color: black;border-radius: 0.25em;background-color: #f0f8ff;}#sk-container-id-1 input.sk-toggleable__control:checked~div.sk-toggleable__content {max-height: 200px;max-width: 100%;overflow: auto;}#sk-container-id-1 input.sk-toggleable__control:checked~label.sk-toggleable__label-arrow:before {content: \"▾\";}#sk-container-id-1 div.sk-estimator input.sk-toggleable__control:checked~label.sk-toggleable__label {background-color: #d4ebff;}#sk-container-id-1 div.sk-label input.sk-toggleable__control:checked~label.sk-toggleable__label {background-color: #d4ebff;}#sk-container-id-1 input.sk-hidden--visually {border: 0;clip: rect(1px 1px 1px 1px);clip: rect(1px, 1px, 1px, 1px);height: 1px;margin: -1px;overflow: hidden;padding: 0;position: absolute;width: 1px;}#sk-container-id-1 div.sk-estimator {font-family: monospace;background-color: #f0f8ff;border: 1px dotted black;border-radius: 0.25em;box-sizing: border-box;margin-bottom: 0.5em;}#sk-container-id-1 div.sk-estimator:hover {background-color: #d4ebff;}#sk-container-id-1 div.sk-parallel-item::after {content: \"\";width: 100%;border-bottom: 1px solid gray;flex-grow: 1;}#sk-container-id-1 div.sk-label:hover label.sk-toggleable__label {background-color: #d4ebff;}#sk-container-id-1 div.sk-serial::before {content: \"\";position: absolute;border-left: 1px solid gray;box-sizing: border-box;top: 0;bottom: 0;left: 50%;z-index: 0;}#sk-container-id-1 div.sk-serial {display: flex;flex-direction: column;align-items: center;background-color: white;padding-right: 0.2em;padding-left: 0.2em;position: relative;}#sk-container-id-1 div.sk-item {position: relative;z-index: 1;}#sk-container-id-1 div.sk-parallel {display: flex;align-items: stretch;justify-content: center;background-color: white;position: relative;}#sk-container-id-1 div.sk-item::before, #sk-container-id-1 div.sk-parallel-item::before {content: \"\";position: absolute;border-left: 1px solid gray;box-sizing: border-box;top: 0;bottom: 0;left: 50%;z-index: -1;}#sk-container-id-1 div.sk-parallel-item {display: flex;flex-direction: column;z-index: 1;position: relative;background-color: white;}#sk-container-id-1 div.sk-parallel-item:first-child::after {align-self: flex-end;width: 50%;}#sk-container-id-1 div.sk-parallel-item:last-child::after {align-self: flex-start;width: 50%;}#sk-container-id-1 div.sk-parallel-item:only-child::after {width: 0;}#sk-container-id-1 div.sk-dashed-wrapped {border: 1px dashed gray;margin: 0 0.4em 0.5em 0.4em;box-sizing: border-box;padding-bottom: 0.4em;background-color: white;}#sk-container-id-1 div.sk-label label {font-family: monospace;font-weight: bold;display: inline-block;line-height: 1.2em;}#sk-container-id-1 div.sk-label-container {text-align: center;}#sk-container-id-1 div.sk-container {/* jupyter's `normalize.less` sets `[hidden] { display: none; }` but bootstrap.min.css set `[hidden] { display: none !important; }` so we also need the `!important` here to be able to override the default hidden behavior on the sphinx rendered scikit-learn.org. See: https://github.com/scikit-learn/scikit-learn/issues/21755 */display: inline-block !important;position: relative;}#sk-container-id-1 div.sk-text-repr-fallback {display: none;}</style><div id=\"sk-container-id-1\" class=\"sk-top-container\"><div class=\"sk-text-repr-fallback\"><pre>RandomForestRegressor(max_depth=5, n_estimators=10, random_state=0)</pre><b>In a Jupyter environment, please rerun this cell to show the HTML representation or trust the notebook. <br />On GitHub, the HTML representation is unable to render, please try loading this page with nbviewer.org.</b></div><div class=\"sk-container\" hidden><div class=\"sk-item\"><div class=\"sk-estimator sk-toggleable\"><input class=\"sk-toggleable__control sk-hidden--visually\" id=\"sk-estimator-id-1\" type=\"checkbox\" checked><label for=\"sk-estimator-id-1\" class=\"sk-toggleable__label sk-toggleable__label-arrow\">RandomForestRegressor</label><div class=\"sk-toggleable__content\"><pre>RandomForestRegressor(max_depth=5, n_estimators=10, random_state=0)</pre></div></div></div></div></div>"
      ],
      "text/plain": [
       "RandomForestRegressor(max_depth=5, n_estimators=10, random_state=0)"
      ]
     },
     "execution_count": 10,
     "metadata": {},
     "output_type": "execute_result"
    }
   ],
   "source": [
    "target_col = 'MedHouseVal'\n",
    "\n",
    "X, y = df.drop(columns=[target_col]), df[target_col]\n",
    "X_train, X_test, y_train, y_test = train_test_split(X, y, test_size=0.2, random_state=0)\n",
    "\n",
    "# モデルの定義\n",
    "model = RandomForestRegressor(\n",
    "    n_estimators = 10,\n",
    "    max_depth = 5,\n",
    "    criterion = 'squared_error',  # 'mse'\n",
    "    random_state = 0,\n",
    ")\n",
    "\n",
    "# 訓練\n",
    "model.fit(X_train, y_train)"
   ]
  },
  {
   "cell_type": "code",
   "execution_count": 11,
   "metadata": {},
   "outputs": [
    {
     "name": "stdout",
     "output_type": "stream",
     "text": [
      "MSE = 0.487\n"
     ]
    }
   ],
   "source": [
    "# 検証データの予測\n",
    "y_pred = model.predict(X_test)\n",
    "\n",
    "# MSE誤差の算出\n",
    "mse = MSE(y_pred, y_test)\n",
    "print(f\"MSE = {mse:.3}\")  # 小数点以下３桁まで出力"
   ]
  },
  {
   "cell_type": "code",
   "execution_count": 12,
   "metadata": {},
   "outputs": [],
   "source": [
    "# 試行関数\n",
    "def train(n_estimators, max_depth):\n",
    "    # モデルの定義\n",
    "    model = RandomForestRegressor(\n",
    "        n_estimators = n_estimators,\n",
    "        max_depth = max_depth,\n",
    "        criterion = 'squared_error',  # 'mse'\n",
    "        random_state = 0,\n",
    "    )\n",
    "\n",
    "    # 訓練\n",
    "    model.fit(X_train, y_train)\n",
    "\n",
    "    # 検証データの予測\n",
    "    y_pred = model.predict(X_test)\n",
    "\n",
    "    # MSE誤差, R2値の算出\n",
    "    mse = MSE(y_pred, y_test)\n",
    "    R2 = r2_score(y_pred, y_test)\n",
    "\n",
    "    return model, mse, R2"
   ]
  },
  {
   "cell_type": "code",
   "execution_count": 13,
   "metadata": {},
   "outputs": [
    {
     "name": "stdout",
     "output_type": "stream",
     "text": [
      "trial 1: n_estimators=10, max_depth=1, MSE = 0.91, R2 = -1.33\n",
      "trial 2: n_estimators=10, max_depth=5, MSE = 0.487, R2 = 0.38\n",
      "trial 3: n_estimators=10, max_depth=10, MSE = 0.312, R2 = 0.676\n",
      "trial 4: n_estimators=100, max_depth=1, MSE = 0.909, R2 = -1.32\n",
      "trial 5: n_estimators=100, max_depth=5, MSE = 0.481, R2 = 0.382\n",
      "trial 6: n_estimators=100, max_depth=10, MSE = 0.304, R2 = 0.679\n"
     ]
    }
   ],
   "source": [
    "# not mlflow \n",
    "\n",
    "# ハイパーパラメータの水準\n",
    "cand_n_estimators = [10, 100]\n",
    "cand_max_depth = [1, 5, 10]\n",
    "\n",
    "trial = 0\n",
    "for n_estimators in cand_n_estimators:\n",
    "    for max_depth in cand_max_depth:\n",
    "        trial += 1\n",
    "        model, mse, R2 = train(n_estimators, max_depth)\n",
    "        # 小数点以下３桁まで出力\n",
    "        print(f\"trial {trial}: n_estimators={n_estimators}, max_depth={max_depth}, MSE = {mse:.3}, R2 = {R2:.3}\")\n"
   ]
  },
  {
   "cell_type": "code",
   "execution_count": 34,
   "metadata": {},
   "outputs": [
    {
     "name": "stdout",
     "output_type": "stream",
     "text": [
      "id:  456086732467144979\n"
     ]
    }
   ],
   "source": [
    "EXPERIMENT_NAME = 'test_hello'\n",
    "experiment = mlflow.get_experiment_by_name(EXPERIMENT_NAME)\n",
    "\n",
    "if experiment is None:  \n",
    "    experiment_id = mlflow.create_experiment(\n",
    "                            name=EXPERIMENT_NAME)\n",
    "else: \n",
    "    experiment_id = experiment.experiment_id\n",
    "    \n",
    "print(\"id: \", experiment_id)"
   ]
  },
  {
   "cell_type": "code",
   "execution_count": 42,
   "metadata": {},
   "outputs": [
    {
     "name": "stdout",
     "output_type": "stream",
     "text": [
      "n_estimators=10, max_depth=1, MSE = 0.91, R2 = -1.33\n"
     ]
    },
    {
     "name": "stderr",
     "output_type": "stream",
     "text": [
      "/usr/local/lib/python3.9/site-packages/_distutils_hack/__init__.py:18: UserWarning: Distutils was imported before Setuptools, but importing Setuptools also replaces the `distutils` module in `sys.modules`. This may lead to undesirable behaviors or errors. To avoid these issues, avoid using distutils directly, ensure that setuptools is installed in the traditional way (e.g. not an editable install), and/or make sure that setuptools is always imported before distutils.\n",
      "  warnings.warn(\n",
      "/usr/local/lib/python3.9/site-packages/_distutils_hack/__init__.py:33: UserWarning: Setuptools is replacing distutils.\n",
      "  warnings.warn(\"Setuptools is replacing distutils.\")\n"
     ]
    },
    {
     "name": "stdout",
     "output_type": "stream",
     "text": [
      "n_estimators=10, max_depth=5, MSE = 0.487, R2 = 0.38\n"
     ]
    },
    {
     "name": "stderr",
     "output_type": "stream",
     "text": [
      "/usr/local/lib/python3.9/site-packages/_distutils_hack/__init__.py:18: UserWarning: Distutils was imported before Setuptools, but importing Setuptools also replaces the `distutils` module in `sys.modules`. This may lead to undesirable behaviors or errors. To avoid these issues, avoid using distutils directly, ensure that setuptools is installed in the traditional way (e.g. not an editable install), and/or make sure that setuptools is always imported before distutils.\n",
      "  warnings.warn(\n",
      "/usr/local/lib/python3.9/site-packages/_distutils_hack/__init__.py:33: UserWarning: Setuptools is replacing distutils.\n",
      "  warnings.warn(\"Setuptools is replacing distutils.\")\n"
     ]
    },
    {
     "name": "stdout",
     "output_type": "stream",
     "text": [
      "n_estimators=10, max_depth=10, MSE = 0.312, R2 = 0.676\n"
     ]
    },
    {
     "name": "stderr",
     "output_type": "stream",
     "text": [
      "/usr/local/lib/python3.9/site-packages/_distutils_hack/__init__.py:18: UserWarning: Distutils was imported before Setuptools, but importing Setuptools also replaces the `distutils` module in `sys.modules`. This may lead to undesirable behaviors or errors. To avoid these issues, avoid using distutils directly, ensure that setuptools is installed in the traditional way (e.g. not an editable install), and/or make sure that setuptools is always imported before distutils.\n",
      "  warnings.warn(\n",
      "/usr/local/lib/python3.9/site-packages/_distutils_hack/__init__.py:33: UserWarning: Setuptools is replacing distutils.\n",
      "  warnings.warn(\"Setuptools is replacing distutils.\")\n"
     ]
    },
    {
     "name": "stdout",
     "output_type": "stream",
     "text": [
      "n_estimators=100, max_depth=1, MSE = 0.909, R2 = -1.32\n"
     ]
    },
    {
     "name": "stderr",
     "output_type": "stream",
     "text": [
      "/usr/local/lib/python3.9/site-packages/_distutils_hack/__init__.py:18: UserWarning: Distutils was imported before Setuptools, but importing Setuptools also replaces the `distutils` module in `sys.modules`. This may lead to undesirable behaviors or errors. To avoid these issues, avoid using distutils directly, ensure that setuptools is installed in the traditional way (e.g. not an editable install), and/or make sure that setuptools is always imported before distutils.\n",
      "  warnings.warn(\n",
      "/usr/local/lib/python3.9/site-packages/_distutils_hack/__init__.py:33: UserWarning: Setuptools is replacing distutils.\n",
      "  warnings.warn(\"Setuptools is replacing distutils.\")\n"
     ]
    },
    {
     "name": "stdout",
     "output_type": "stream",
     "text": [
      "n_estimators=100, max_depth=5, MSE = 0.481, R2 = 0.382\n"
     ]
    },
    {
     "name": "stderr",
     "output_type": "stream",
     "text": [
      "/usr/local/lib/python3.9/site-packages/_distutils_hack/__init__.py:18: UserWarning: Distutils was imported before Setuptools, but importing Setuptools also replaces the `distutils` module in `sys.modules`. This may lead to undesirable behaviors or errors. To avoid these issues, avoid using distutils directly, ensure that setuptools is installed in the traditional way (e.g. not an editable install), and/or make sure that setuptools is always imported before distutils.\n",
      "  warnings.warn(\n",
      "/usr/local/lib/python3.9/site-packages/_distutils_hack/__init__.py:33: UserWarning: Setuptools is replacing distutils.\n",
      "  warnings.warn(\"Setuptools is replacing distutils.\")\n"
     ]
    },
    {
     "name": "stdout",
     "output_type": "stream",
     "text": [
      "n_estimators=100, max_depth=10, MSE = 0.304, R2 = 0.679\n"
     ]
    },
    {
     "name": "stderr",
     "output_type": "stream",
     "text": [
      "/usr/local/lib/python3.9/site-packages/_distutils_hack/__init__.py:18: UserWarning: Distutils was imported before Setuptools, but importing Setuptools also replaces the `distutils` module in `sys.modules`. This may lead to undesirable behaviors or errors. To avoid these issues, avoid using distutils directly, ensure that setuptools is installed in the traditional way (e.g. not an editable install), and/or make sure that setuptools is always imported before distutils.\n",
      "  warnings.warn(\n",
      "/usr/local/lib/python3.9/site-packages/_distutils_hack/__init__.py:33: UserWarning: Setuptools is replacing distutils.\n",
      "  warnings.warn(\"Setuptools is replacing distutils.\")\n"
     ]
    },
    {
     "data": {
      "image/png": "[encoded data removed]",
      "text/plain": [
       "<Figure size 640x480 with 2 Axes>"
      ]
     },
     "metadata": {},
     "output_type": "display_data"
    },
    {
     "data": {
      "image/png": "[encoded data removed]",
      "text/plain": [
       "<Figure size 640x480 with 2 Axes>"
      ]
     },
     "metadata": {},
     "output_type": "display_data"
    }
   ],
   "source": [
    "# mlflow \n",
    "\n",
    "RUN_NAME=\"RandomForestRegressor\"\n",
    "\n",
    "# mlflowを経由して引っ張ったdatasetにはmlflow.log_input(dataset)が使える\n",
    "\n",
    "dataset_source_url = \"http://archive.ics.uci.edu/ml/machine-learning-databases/wine-quality/winequality-red.csv\"\n",
    "df = pd.read_csv(dataset_source_url)\n",
    "dataset: PandasDataset = mlflow.data.from_pandas(df, source=dataset_source_url)\n",
    "\n",
    "with mlflow.start_run(experiment_id = experiment_id, run_name = RUN_NAME):\n",
    "\n",
    "    # データセット保存\n",
    "    mlflow.log_artifact(\"test.csv\")\n",
    "    mlflow.log_input(dataset, context=\"training\")\n",
    "\n",
    "    # 実験のタグ付け\n",
    "    mlflow.set_tag(\"mlflow.note.content\", \"RandomForestRegressorのハイパーパラメータ探索\")\n",
    "    mlflow.set_tag(\"mlflow.project.env\", \"docker\")\n",
    "\n",
    "    cand_n_estimators = [10, 100]\n",
    "    cand_max_depth = [1, 5, 10]\n",
    "\n",
    "    # パラメータ群\n",
    "    mlflow.log_param(\"cand_n_estimators\", cand_n_estimators)\n",
    "    mlflow.log_param(\"cand_max_depth\", cand_max_depth)\n",
    "\n",
    "    for n_estimators in cand_n_estimators:\n",
    "\n",
    "        nest_run_name =  f\"n_estimators_{n_estimators}__\" + RUN_NAME\n",
    "        with mlflow.start_run(experiment_id = experiment_id, run_name = nest_run_name, nested=True):\n",
    "\n",
    "            metrics_mse = []\n",
    "            metrics_R2  = []\n",
    "            data_dict = dict()\n",
    "\n",
    "            for max_depth in cand_max_depth:\n",
    "\n",
    "                md_run_name = f\"max_depth_{max_depth}__\" + nest_run_name\n",
    "                with mlflow.start_run(experiment_id = experiment_id, run_name = md_run_name, nested=True):\n",
    "\n",
    "                    model, mse, R2 = train(n_estimators, max_depth)\n",
    "\n",
    "                    print(f\"n_estimators={n_estimators}, max_depth={max_depth}, MSE = {mse:.3}, R2 = {R2:.3}\")\n",
    "\n",
    "                    mlflow.log_param(\"n_estimators\", n_estimators)\n",
    "                    mlflow.log_param(\"max_depth\", max_depth)\n",
    "                    mlflow.log_metric(\"mse\", mse)\n",
    "                    mlflow.log_metric(\"R2\", R2)\n",
    "                    mlflow.sklearn.log_model(model, \"model\")\n",
    "                    \n",
    "                    metrics_mse.append(mse)\n",
    "                    metrics_R2.append(R2)\n",
    "                    data_dict[str(max_depth)]=mse\n",
    "\n",
    "                    # artifacts\n",
    "                    features = f'test\\nn_estimators={n_estimators}, max_depth={max_depth}, MSE = {mse:.3}, R2 = {R2:.3}\"'\n",
    "                    with open(\"features.txt\", \"w\") as f:\n",
    "                        f.write(features)\n",
    "                    mlflow.log_artifact('features.txt')\n",
    "\n",
    "            # 実験の総括\n",
    "            mlflow.log_metrics(data_dict)\n",
    "\n",
    "            # 画像の保存\n",
    "            fig, axs = plt.subplots(2)\n",
    "            plt.title(f\"n_estimators: {n_estimators}\")\n",
    "            axs[0].plot(cand_max_depth, metrics_mse)\n",
    "            axs[1].plot(cand_max_depth, metrics_R2)\n",
    "            mlflow.log_figure(fig, f\"plot_n_estimators_{n_estimators}.png\")\n"
   ]
  },
  {
   "cell_type": "code",
   "execution_count": 43,
   "metadata": {},
   "outputs": [
    {
     "data": {
      "text/plain": [
       "{'1': 0.9092017114676325, '5': 0.48058794937785154, '10': 0.30396417176212714}"
      ]
     },
     "execution_count": 43,
     "metadata": {},
     "output_type": "execute_result"
    }
   ],
   "source": [
    "data_dict"
   ]
  },
  {
   "cell_type": "code",
   "execution_count": 44,
   "metadata": {},
   "outputs": [
    {
     "data": {
      "text/plain": [
       "[]"
      ]
     },
     "execution_count": 44,
     "metadata": {},
     "output_type": "execute_result"
    }
   ],
   "source": [
    "from mlflow.tracking import fluent\n",
    "fluent._active_run_stack"
   ]
  },
  {
   "cell_type": "code",
   "execution_count": 17,
   "metadata": {},
   "outputs": [
    {
     "data": {
      "text/plain": [
       "[]"
      ]
     },
     "execution_count": 17,
     "metadata": {},
     "output_type": "execute_result"
    }
   ],
   "source": [
    "mlflow.end_run()\n",
    "fluent._active_run_stack\n"
   ]
  }
 ],
 "metadata": {
  "kernelspec": {
   "display_name": "Python 3 (ipykernel)",
   "language": "python",
   "name": "python3"
  },
  "language_info": {
   "codemirror_mode": {
    "name": "ipython",
    "version": 3
   },
   "file_extension": ".py",
   "mimetype": "text/x-python",
   "name": "python",
   "nbconvert_exporter": "python",
   "pygments_lexer": "ipython3",
   "version": "3.9.7"
  },
  "orig_nbformat": 4
 },
 "nbformat": 4,
 "nbformat_minor": 2
}
